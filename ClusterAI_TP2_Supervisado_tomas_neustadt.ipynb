{
  "cells": [
    {
      "cell_type": "markdown",
      "metadata": {
        "id": "P3ANPsbtkuXj"
      },
      "source": [
        "## **Trabajo Práctico Individual n° 2: Aprendizaje Supervisado**\n",
        "____\n",
        "__Universidad Tecnológica Nacional, Buenos Aires__\\\n",
        "__Ingeniería Industrial__\\\n",
        "__Ciencia de Datos - Curso I5521__\n",
        "____"
      ]
    },
    {
      "cell_type": "markdown",
      "metadata": {
        "id": "cTPsPHb_lWTE"
      },
      "source": [
        "- Nombre: Tomas\n",
        "- Apellido: Neustadt\n",
        "- Legajo: 1645640"
      ]
    },
    {
      "cell_type": "markdown",
      "metadata": {
        "id": "E5W-65MskuXx"
      },
      "source": [
        "En este trabajo práctico aplicaremos algunas técnicas aprendidas para el aprendizaje automático supervisado.\n",
        "\n",
        "Utilizaremos un dataset de airbnb donde buscaremos predecir el precio de las noches de cada hogar en funcion de algunas variables."
      ]
    },
    {
      "cell_type": "markdown",
      "metadata": {
        "id": "mKUpHSLqkuXz"
      },
      "source": [
        "#### Variables:\n",
        "- Unnamed: 0: Variable de contador de registros (no será utilizada en nuetro análisis)\n",
        "- neighbourhood: Barrio donde se encuentra ubicado la casa.\n",
        "- room_type: Tipo de hogar en alquiler.\n",
        "- price: Precio por noche.\n",
        "- minimum_nights: Cantidad minimas de noches que pueden alquilar el hogar.\n",
        "- number_of_reviews: Cantidad de reviews\n",
        "- reviews_per_month: Tasa de reviews que tienen por mes\n",
        "- calculated_host_listings_count: Cantidad de hogares ofrecidos por el host.\n",
        "- availability_365: Cantidad de dias que se encuentra en alquiler el hogar"
      ]
    },
    {
      "cell_type": "markdown",
      "metadata": {
        "id": "hWk9Vqs8l5jg"
      },
      "source": [
        "## **Objetivos del trabajo practico**\n",
        "- resolver los requisitos que se detallan en las proximas celdas\n",
        "- dejar comentarios # en cada linea de codigo que se agregue\n",
        "- fecha limite de entrega: 13 de Octubre 2022 a las 23h59"
      ]
    },
    {
      "cell_type": "code",
      "execution_count": 1,
      "metadata": {
        "id": "7VzMW3fvkuX0"
      },
      "outputs": [],
      "source": [
        "## Importo librerías de maniupulación de datos\n",
        "import pandas as pd\n",
        "import numpy as np\n",
        "import seaborn as sns\n",
        "import matplotlib.pyplot as plt"
      ]
    },
    {
      "cell_type": "code",
      "execution_count": 2,
      "metadata": {
        "id": "NFgDAUVLNfhE"
      },
      "outputs": [],
      "source": [
        "## Importo librerías de Aprendizaje automático\n",
        "from sklearn import preprocessing\n",
        "from sklearn import linear_model\n",
        "from sklearn.model_selection import train_test_split, cross_val_score\n",
        "from sklearn.metrics import r2_score, mean_squared_error\n",
        "from sklearn.utils import shuffle\n",
        "from sklearn.preprocessing import StandardScaler\n",
        "from sklearn import preprocessing\n",
        "from sklearn.preprocessing import LabelEncoder\n",
        "from sklearn.linear_model import LinearRegression\n",
        "from sklearn.svm import SVR, LinearSVR\n",
        "from sklearn.metrics import mean_squared_error, make_scorer\n",
        "from sklearn.model_selection import GridSearchCV"
      ]
    },
    {
      "cell_type": "markdown",
      "metadata": {
        "id": "v7h4SOeAkuX4"
      },
      "source": [
        "##### **Objetivo 1**\n",
        "Lo primero que deberan hacer será importar\n",
        "- el dataset bajo en nombre \"london\"\n",
        "- corroborar que lo hayamos cargado correctamente."
      ]
    },
    {
      "cell_type": "code",
      "execution_count": 3,
      "metadata": {
        "colab": {
          "base_uri": "https://localhost:8080/"
        },
        "id": "7NMjMrqXXdxV",
        "outputId": "6ae68c4c-981e-4692-c467-8247ac75112d"
      },
      "outputs": [
        {
          "output_type": "stream",
          "name": "stdout",
          "text": [
            "True\n",
            "Mounted at /content/gdrive\n"
          ]
        }
      ],
      "source": [
        "# Verificamos si estamos en Colab\n",
        "var_google_colab = 'google.colab' in str(get_ipython())\n",
        "print(var_google_colab)\n",
        "if var_google_colab:\n",
        "  #Montamos nuestro G.Drive\n",
        "  from google.colab import drive\n",
        "  drive.mount('/content/gdrive',force_remount=True)"
      ]
    },
    {
      "cell_type": "code",
      "source": [
        "if var_google_colab:\n",
        "  # Direccion root donde está la jupyter-notebook\n",
        "  root_path = \"/content/gdrive/MyDrive/tp-2/TP2_airbnb_london.csv\"\n",
        "  # Direccion donde guardaremos las imagenes\n",
        "  plot_path = root_path\n",
        "else:\n",
        "  # Si, no estamos en google colab, es que estamos corriendo la \n",
        "  # en local.\n",
        "  root_path = \"\"\n",
        "  plot_path = root_path"
      ],
      "metadata": {
        "id": "KekygJ_0YyFS"
      },
      "execution_count": 4,
      "outputs": []
    },
    {
      "cell_type": "code",
      "source": [
        "london = pd.read_csv(root_path)"
      ],
      "metadata": {
        "id": "ApTvVa1iZn0h"
      },
      "execution_count": 5,
      "outputs": []
    },
    {
      "cell_type": "code",
      "execution_count": 6,
      "metadata": {
        "colab": {
          "base_uri": "https://localhost:8080/",
          "height": 206
        },
        "id": "cAqehQrfXdxV",
        "outputId": "e6fa75e3-46a5-44ca-ee90-1c4b6e062676"
      },
      "outputs": [
        {
          "output_type": "execute_result",
          "data": {
            "text/plain": [
              "   Unnamed: 0  neighbourhood        room_type  price  minimum_nights  \\\n",
              "0           0       Haringey     Private room     35               1   \n",
              "1           1         Ealing     Private room     70               2   \n",
              "2           2      Islington     Private room     45               1   \n",
              "3           5  Tower Hamlets  Entire home/apt    102               5   \n",
              "4           6         Barnet     Private room     29               5   \n",
              "\n",
              "   number_of_reviews  reviews_per_month  calculated_host_listings_count  \\\n",
              "0                131               1.71                               4   \n",
              "1                  2               0.07                               6   \n",
              "2                 14               0.14                               2   \n",
              "3                  7               0.07                              56   \n",
              "4                114               1.13                               3   \n",
              "\n",
              "   availability_365  \n",
              "0               262  \n",
              "1                62  \n",
              "2               364  \n",
              "3               295  \n",
              "4               285  "
            ],
            "text/html": [
              "\n",
              "  <div id=\"df-9362901b-5b1e-46bc-a1fe-c55f98330335\">\n",
              "    <div class=\"colab-df-container\">\n",
              "      <div>\n",
              "<style scoped>\n",
              "    .dataframe tbody tr th:only-of-type {\n",
              "        vertical-align: middle;\n",
              "    }\n",
              "\n",
              "    .dataframe tbody tr th {\n",
              "        vertical-align: top;\n",
              "    }\n",
              "\n",
              "    .dataframe thead th {\n",
              "        text-align: right;\n",
              "    }\n",
              "</style>\n",
              "<table border=\"1\" class=\"dataframe\">\n",
              "  <thead>\n",
              "    <tr style=\"text-align: right;\">\n",
              "      <th></th>\n",
              "      <th>Unnamed: 0</th>\n",
              "      <th>neighbourhood</th>\n",
              "      <th>room_type</th>\n",
              "      <th>price</th>\n",
              "      <th>minimum_nights</th>\n",
              "      <th>number_of_reviews</th>\n",
              "      <th>reviews_per_month</th>\n",
              "      <th>calculated_host_listings_count</th>\n",
              "      <th>availability_365</th>\n",
              "    </tr>\n",
              "  </thead>\n",
              "  <tbody>\n",
              "    <tr>\n",
              "      <th>0</th>\n",
              "      <td>0</td>\n",
              "      <td>Haringey</td>\n",
              "      <td>Private room</td>\n",
              "      <td>35</td>\n",
              "      <td>1</td>\n",
              "      <td>131</td>\n",
              "      <td>1.71</td>\n",
              "      <td>4</td>\n",
              "      <td>262</td>\n",
              "    </tr>\n",
              "    <tr>\n",
              "      <th>1</th>\n",
              "      <td>1</td>\n",
              "      <td>Ealing</td>\n",
              "      <td>Private room</td>\n",
              "      <td>70</td>\n",
              "      <td>2</td>\n",
              "      <td>2</td>\n",
              "      <td>0.07</td>\n",
              "      <td>6</td>\n",
              "      <td>62</td>\n",
              "    </tr>\n",
              "    <tr>\n",
              "      <th>2</th>\n",
              "      <td>2</td>\n",
              "      <td>Islington</td>\n",
              "      <td>Private room</td>\n",
              "      <td>45</td>\n",
              "      <td>1</td>\n",
              "      <td>14</td>\n",
              "      <td>0.14</td>\n",
              "      <td>2</td>\n",
              "      <td>364</td>\n",
              "    </tr>\n",
              "    <tr>\n",
              "      <th>3</th>\n",
              "      <td>5</td>\n",
              "      <td>Tower Hamlets</td>\n",
              "      <td>Entire home/apt</td>\n",
              "      <td>102</td>\n",
              "      <td>5</td>\n",
              "      <td>7</td>\n",
              "      <td>0.07</td>\n",
              "      <td>56</td>\n",
              "      <td>295</td>\n",
              "    </tr>\n",
              "    <tr>\n",
              "      <th>4</th>\n",
              "      <td>6</td>\n",
              "      <td>Barnet</td>\n",
              "      <td>Private room</td>\n",
              "      <td>29</td>\n",
              "      <td>5</td>\n",
              "      <td>114</td>\n",
              "      <td>1.13</td>\n",
              "      <td>3</td>\n",
              "      <td>285</td>\n",
              "    </tr>\n",
              "  </tbody>\n",
              "</table>\n",
              "</div>\n",
              "      <button class=\"colab-df-convert\" onclick=\"convertToInteractive('df-9362901b-5b1e-46bc-a1fe-c55f98330335')\"\n",
              "              title=\"Convert this dataframe to an interactive table.\"\n",
              "              style=\"display:none;\">\n",
              "        \n",
              "  <svg xmlns=\"http://www.w3.org/2000/svg\" height=\"24px\"viewBox=\"0 0 24 24\"\n",
              "       width=\"24px\">\n",
              "    <path d=\"M0 0h24v24H0V0z\" fill=\"none\"/>\n",
              "    <path d=\"M18.56 5.44l.94 2.06.94-2.06 2.06-.94-2.06-.94-.94-2.06-.94 2.06-2.06.94zm-11 1L8.5 8.5l.94-2.06 2.06-.94-2.06-.94L8.5 2.5l-.94 2.06-2.06.94zm10 10l.94 2.06.94-2.06 2.06-.94-2.06-.94-.94-2.06-.94 2.06-2.06.94z\"/><path d=\"M17.41 7.96l-1.37-1.37c-.4-.4-.92-.59-1.43-.59-.52 0-1.04.2-1.43.59L10.3 9.45l-7.72 7.72c-.78.78-.78 2.05 0 2.83L4 21.41c.39.39.9.59 1.41.59.51 0 1.02-.2 1.41-.59l7.78-7.78 2.81-2.81c.8-.78.8-2.07 0-2.86zM5.41 20L4 18.59l7.72-7.72 1.47 1.35L5.41 20z\"/>\n",
              "  </svg>\n",
              "      </button>\n",
              "      \n",
              "  <style>\n",
              "    .colab-df-container {\n",
              "      display:flex;\n",
              "      flex-wrap:wrap;\n",
              "      gap: 12px;\n",
              "    }\n",
              "\n",
              "    .colab-df-convert {\n",
              "      background-color: #E8F0FE;\n",
              "      border: none;\n",
              "      border-radius: 50%;\n",
              "      cursor: pointer;\n",
              "      display: none;\n",
              "      fill: #1967D2;\n",
              "      height: 32px;\n",
              "      padding: 0 0 0 0;\n",
              "      width: 32px;\n",
              "    }\n",
              "\n",
              "    .colab-df-convert:hover {\n",
              "      background-color: #E2EBFA;\n",
              "      box-shadow: 0px 1px 2px rgba(60, 64, 67, 0.3), 0px 1px 3px 1px rgba(60, 64, 67, 0.15);\n",
              "      fill: #174EA6;\n",
              "    }\n",
              "\n",
              "    [theme=dark] .colab-df-convert {\n",
              "      background-color: #3B4455;\n",
              "      fill: #D2E3FC;\n",
              "    }\n",
              "\n",
              "    [theme=dark] .colab-df-convert:hover {\n",
              "      background-color: #434B5C;\n",
              "      box-shadow: 0px 1px 3px 1px rgba(0, 0, 0, 0.15);\n",
              "      filter: drop-shadow(0px 1px 2px rgba(0, 0, 0, 0.3));\n",
              "      fill: #FFFFFF;\n",
              "    }\n",
              "  </style>\n",
              "\n",
              "      <script>\n",
              "        const buttonEl =\n",
              "          document.querySelector('#df-9362901b-5b1e-46bc-a1fe-c55f98330335 button.colab-df-convert');\n",
              "        buttonEl.style.display =\n",
              "          google.colab.kernel.accessAllowed ? 'block' : 'none';\n",
              "\n",
              "        async function convertToInteractive(key) {\n",
              "          const element = document.querySelector('#df-9362901b-5b1e-46bc-a1fe-c55f98330335');\n",
              "          const dataTable =\n",
              "            await google.colab.kernel.invokeFunction('convertToInteractive',\n",
              "                                                     [key], {});\n",
              "          if (!dataTable) return;\n",
              "\n",
              "          const docLinkHtml = 'Like what you see? Visit the ' +\n",
              "            '<a target=\"_blank\" href=https://colab.research.google.com/notebooks/data_table.ipynb>data table notebook</a>'\n",
              "            + ' to learn more about interactive tables.';\n",
              "          element.innerHTML = '';\n",
              "          dataTable['output_type'] = 'display_data';\n",
              "          await google.colab.output.renderOutput(dataTable, element);\n",
              "          const docLink = document.createElement('div');\n",
              "          docLink.innerHTML = docLinkHtml;\n",
              "          element.appendChild(docLink);\n",
              "        }\n",
              "      </script>\n",
              "    </div>\n",
              "  </div>\n",
              "  "
            ]
          },
          "metadata": {},
          "execution_count": 6
        }
      ],
      "source": [
        "london.head()"
      ]
    },
    {
      "cell_type": "markdown",
      "metadata": {
        "id": "LFZY1u8XkuX5"
      },
      "source": [
        "##### **Objetivo 2**\n",
        "Ahora imprimir también las dimensiones del dataset y eliminar la variable \"Unnamed:0\" del dataset.\n",
        "Volver a guardar el dataset sin esta variable bajo el nombre \"london\" "
      ]
    },
    {
      "cell_type": "code",
      "execution_count": 7,
      "metadata": {
        "id": "V6WzWe1JkuX7",
        "scrolled": true,
        "colab": {
          "base_uri": "https://localhost:8080/"
        },
        "outputId": "a7f8bd1d-0e3c-4fa6-fdf3-185452696f47"
      },
      "outputs": [
        {
          "output_type": "execute_result",
          "data": {
            "text/plain": [
              "(51827, 9)"
            ]
          },
          "metadata": {},
          "execution_count": 7
        }
      ],
      "source": [
        "london.shape"
      ]
    },
    {
      "cell_type": "code",
      "execution_count": 8,
      "metadata": {
        "id": "0nXv4RoPXdxW"
      },
      "outputs": [],
      "source": [
        "london = london.iloc[:, 1:9]"
      ]
    },
    {
      "cell_type": "code",
      "execution_count": 9,
      "metadata": {
        "colab": {
          "base_uri": "https://localhost:8080/",
          "height": 206
        },
        "id": "Dx4JeWA8XdxW",
        "outputId": "019c3d1e-d6c2-4d4d-d253-e4b8071ed081"
      },
      "outputs": [
        {
          "output_type": "execute_result",
          "data": {
            "text/plain": [
              "   neighbourhood        room_type  price  minimum_nights  number_of_reviews  \\\n",
              "0       Haringey     Private room     35               1                131   \n",
              "1         Ealing     Private room     70               2                  2   \n",
              "2      Islington     Private room     45               1                 14   \n",
              "3  Tower Hamlets  Entire home/apt    102               5                  7   \n",
              "4         Barnet     Private room     29               5                114   \n",
              "\n",
              "   reviews_per_month  calculated_host_listings_count  availability_365  \n",
              "0               1.71                               4               262  \n",
              "1               0.07                               6                62  \n",
              "2               0.14                               2               364  \n",
              "3               0.07                              56               295  \n",
              "4               1.13                               3               285  "
            ],
            "text/html": [
              "\n",
              "  <div id=\"df-2103e8c8-fb9e-474f-92ee-f846d0f25851\">\n",
              "    <div class=\"colab-df-container\">\n",
              "      <div>\n",
              "<style scoped>\n",
              "    .dataframe tbody tr th:only-of-type {\n",
              "        vertical-align: middle;\n",
              "    }\n",
              "\n",
              "    .dataframe tbody tr th {\n",
              "        vertical-align: top;\n",
              "    }\n",
              "\n",
              "    .dataframe thead th {\n",
              "        text-align: right;\n",
              "    }\n",
              "</style>\n",
              "<table border=\"1\" class=\"dataframe\">\n",
              "  <thead>\n",
              "    <tr style=\"text-align: right;\">\n",
              "      <th></th>\n",
              "      <th>neighbourhood</th>\n",
              "      <th>room_type</th>\n",
              "      <th>price</th>\n",
              "      <th>minimum_nights</th>\n",
              "      <th>number_of_reviews</th>\n",
              "      <th>reviews_per_month</th>\n",
              "      <th>calculated_host_listings_count</th>\n",
              "      <th>availability_365</th>\n",
              "    </tr>\n",
              "  </thead>\n",
              "  <tbody>\n",
              "    <tr>\n",
              "      <th>0</th>\n",
              "      <td>Haringey</td>\n",
              "      <td>Private room</td>\n",
              "      <td>35</td>\n",
              "      <td>1</td>\n",
              "      <td>131</td>\n",
              "      <td>1.71</td>\n",
              "      <td>4</td>\n",
              "      <td>262</td>\n",
              "    </tr>\n",
              "    <tr>\n",
              "      <th>1</th>\n",
              "      <td>Ealing</td>\n",
              "      <td>Private room</td>\n",
              "      <td>70</td>\n",
              "      <td>2</td>\n",
              "      <td>2</td>\n",
              "      <td>0.07</td>\n",
              "      <td>6</td>\n",
              "      <td>62</td>\n",
              "    </tr>\n",
              "    <tr>\n",
              "      <th>2</th>\n",
              "      <td>Islington</td>\n",
              "      <td>Private room</td>\n",
              "      <td>45</td>\n",
              "      <td>1</td>\n",
              "      <td>14</td>\n",
              "      <td>0.14</td>\n",
              "      <td>2</td>\n",
              "      <td>364</td>\n",
              "    </tr>\n",
              "    <tr>\n",
              "      <th>3</th>\n",
              "      <td>Tower Hamlets</td>\n",
              "      <td>Entire home/apt</td>\n",
              "      <td>102</td>\n",
              "      <td>5</td>\n",
              "      <td>7</td>\n",
              "      <td>0.07</td>\n",
              "      <td>56</td>\n",
              "      <td>295</td>\n",
              "    </tr>\n",
              "    <tr>\n",
              "      <th>4</th>\n",
              "      <td>Barnet</td>\n",
              "      <td>Private room</td>\n",
              "      <td>29</td>\n",
              "      <td>5</td>\n",
              "      <td>114</td>\n",
              "      <td>1.13</td>\n",
              "      <td>3</td>\n",
              "      <td>285</td>\n",
              "    </tr>\n",
              "  </tbody>\n",
              "</table>\n",
              "</div>\n",
              "      <button class=\"colab-df-convert\" onclick=\"convertToInteractive('df-2103e8c8-fb9e-474f-92ee-f846d0f25851')\"\n",
              "              title=\"Convert this dataframe to an interactive table.\"\n",
              "              style=\"display:none;\">\n",
              "        \n",
              "  <svg xmlns=\"http://www.w3.org/2000/svg\" height=\"24px\"viewBox=\"0 0 24 24\"\n",
              "       width=\"24px\">\n",
              "    <path d=\"M0 0h24v24H0V0z\" fill=\"none\"/>\n",
              "    <path d=\"M18.56 5.44l.94 2.06.94-2.06 2.06-.94-2.06-.94-.94-2.06-.94 2.06-2.06.94zm-11 1L8.5 8.5l.94-2.06 2.06-.94-2.06-.94L8.5 2.5l-.94 2.06-2.06.94zm10 10l.94 2.06.94-2.06 2.06-.94-2.06-.94-.94-2.06-.94 2.06-2.06.94z\"/><path d=\"M17.41 7.96l-1.37-1.37c-.4-.4-.92-.59-1.43-.59-.52 0-1.04.2-1.43.59L10.3 9.45l-7.72 7.72c-.78.78-.78 2.05 0 2.83L4 21.41c.39.39.9.59 1.41.59.51 0 1.02-.2 1.41-.59l7.78-7.78 2.81-2.81c.8-.78.8-2.07 0-2.86zM5.41 20L4 18.59l7.72-7.72 1.47 1.35L5.41 20z\"/>\n",
              "  </svg>\n",
              "      </button>\n",
              "      \n",
              "  <style>\n",
              "    .colab-df-container {\n",
              "      display:flex;\n",
              "      flex-wrap:wrap;\n",
              "      gap: 12px;\n",
              "    }\n",
              "\n",
              "    .colab-df-convert {\n",
              "      background-color: #E8F0FE;\n",
              "      border: none;\n",
              "      border-radius: 50%;\n",
              "      cursor: pointer;\n",
              "      display: none;\n",
              "      fill: #1967D2;\n",
              "      height: 32px;\n",
              "      padding: 0 0 0 0;\n",
              "      width: 32px;\n",
              "    }\n",
              "\n",
              "    .colab-df-convert:hover {\n",
              "      background-color: #E2EBFA;\n",
              "      box-shadow: 0px 1px 2px rgba(60, 64, 67, 0.3), 0px 1px 3px 1px rgba(60, 64, 67, 0.15);\n",
              "      fill: #174EA6;\n",
              "    }\n",
              "\n",
              "    [theme=dark] .colab-df-convert {\n",
              "      background-color: #3B4455;\n",
              "      fill: #D2E3FC;\n",
              "    }\n",
              "\n",
              "    [theme=dark] .colab-df-convert:hover {\n",
              "      background-color: #434B5C;\n",
              "      box-shadow: 0px 1px 3px 1px rgba(0, 0, 0, 0.15);\n",
              "      filter: drop-shadow(0px 1px 2px rgba(0, 0, 0, 0.3));\n",
              "      fill: #FFFFFF;\n",
              "    }\n",
              "  </style>\n",
              "\n",
              "      <script>\n",
              "        const buttonEl =\n",
              "          document.querySelector('#df-2103e8c8-fb9e-474f-92ee-f846d0f25851 button.colab-df-convert');\n",
              "        buttonEl.style.display =\n",
              "          google.colab.kernel.accessAllowed ? 'block' : 'none';\n",
              "\n",
              "        async function convertToInteractive(key) {\n",
              "          const element = document.querySelector('#df-2103e8c8-fb9e-474f-92ee-f846d0f25851');\n",
              "          const dataTable =\n",
              "            await google.colab.kernel.invokeFunction('convertToInteractive',\n",
              "                                                     [key], {});\n",
              "          if (!dataTable) return;\n",
              "\n",
              "          const docLinkHtml = 'Like what you see? Visit the ' +\n",
              "            '<a target=\"_blank\" href=https://colab.research.google.com/notebooks/data_table.ipynb>data table notebook</a>'\n",
              "            + ' to learn more about interactive tables.';\n",
              "          element.innerHTML = '';\n",
              "          dataTable['output_type'] = 'display_data';\n",
              "          await google.colab.output.renderOutput(dataTable, element);\n",
              "          const docLink = document.createElement('div');\n",
              "          docLink.innerHTML = docLinkHtml;\n",
              "          element.appendChild(docLink);\n",
              "        }\n",
              "      </script>\n",
              "    </div>\n",
              "  </div>\n",
              "  "
            ]
          },
          "metadata": {},
          "execution_count": 9
        }
      ],
      "source": [
        "london.head()"
      ]
    },
    {
      "cell_type": "markdown",
      "metadata": {
        "id": "i6rbeiRvkuX8"
      },
      "source": [
        "##### **Objetivo 3**\n",
        "Corroborar que el dataset no cuenta con valores nulos, si los hubiera llenarlos todos con 0."
      ]
    },
    {
      "cell_type": "code",
      "execution_count": 10,
      "metadata": {
        "id": "huJVDzyTkuX8",
        "colab": {
          "base_uri": "https://localhost:8080/"
        },
        "outputId": "624ab1d1-2255-46b2-fbd7-6928b6f26268"
      },
      "outputs": [
        {
          "output_type": "execute_result",
          "data": {
            "text/plain": [
              "neighbourhood                     False\n",
              "room_type                         False\n",
              "price                             False\n",
              "minimum_nights                    False\n",
              "number_of_reviews                 False\n",
              "reviews_per_month                 False\n",
              "calculated_host_listings_count    False\n",
              "availability_365                  False\n",
              "dtype: bool"
            ]
          },
          "metadata": {},
          "execution_count": 10
        }
      ],
      "source": [
        "london.isnull().any()"
      ]
    },
    {
      "cell_type": "markdown",
      "metadata": {
        "id": "J5K3hnLhkuX9"
      },
      "source": [
        "##### **Objetivo 4**\n",
        "Mostrar el tipo de dato para las variables \"neighbourhood\" y \"room_type\"."
      ]
    },
    {
      "cell_type": "code",
      "execution_count": 11,
      "metadata": {
        "id": "buyjxSDNkuX-",
        "colab": {
          "base_uri": "https://localhost:8080/"
        },
        "outputId": "27e741de-1637-4589-f3d7-2dcbcd4890cc"
      },
      "outputs": [
        {
          "output_type": "execute_result",
          "data": {
            "text/plain": [
              "dtype('O')"
            ]
          },
          "metadata": {},
          "execution_count": 11
        }
      ],
      "source": [
        "london['neighbourhood'].dtypes"
      ]
    },
    {
      "cell_type": "code",
      "execution_count": 12,
      "metadata": {
        "colab": {
          "base_uri": "https://localhost:8080/"
        },
        "id": "j1wIT-N-XdxX",
        "outputId": "4f77c37b-a700-42c4-fb51-3153afdb88d7"
      },
      "outputs": [
        {
          "output_type": "execute_result",
          "data": {
            "text/plain": [
              "dtype('O')"
            ]
          },
          "metadata": {},
          "execution_count": 12
        }
      ],
      "source": [
        "london['room_type'].dtypes"
      ]
    },
    {
      "cell_type": "markdown",
      "metadata": {
        "id": "-Pif7gnqkuX-"
      },
      "source": [
        "##### **Objetivo 5**\n",
        "Generar las variables dummies para estas dos variables categóricas y unirlas al dataset london.\n"
      ]
    },
    {
      "cell_type": "code",
      "execution_count": 13,
      "metadata": {
        "id": "WQ2GszPKNfhI"
      },
      "outputs": [],
      "source": [
        "## Genero las dummies para la variable neighbourhood, dentro de la variable neigh_dummies.\n",
        "neigh_dummies = pd.get_dummies(london['neighbourhood'])"
      ]
    },
    {
      "cell_type": "markdown",
      "metadata": {
        "id": "D9raTKcGNfhJ"
      },
      "source": [
        "Imprimir las dimensiones y primeras lineas de estas dummies"
      ]
    },
    {
      "cell_type": "code",
      "execution_count": 14,
      "metadata": {
        "id": "x5aYhwWcNfhJ",
        "colab": {
          "base_uri": "https://localhost:8080/"
        },
        "outputId": "29cb94e8-e9ff-42ec-f44d-0e52b64b74df"
      },
      "outputs": [
        {
          "output_type": "execute_result",
          "data": {
            "text/plain": [
              "(51827, 33)"
            ]
          },
          "metadata": {},
          "execution_count": 14
        }
      ],
      "source": [
        "neigh_dummies.shape"
      ]
    },
    {
      "cell_type": "code",
      "execution_count": 15,
      "metadata": {
        "id": "qdGPJ4tONfhJ"
      },
      "outputs": [],
      "source": [
        "## Genero las dummies para la variable room_type, dentro de la variable room_dummies.\n",
        "room_dummies = pd.get_dummies(london['room_type'])"
      ]
    },
    {
      "cell_type": "markdown",
      "metadata": {
        "id": "lDHhvq4_NfhJ"
      },
      "source": [
        "Imprimir las dimensiones y primeras lineas de estas dummies"
      ]
    },
    {
      "cell_type": "code",
      "execution_count": 16,
      "metadata": {
        "id": "ssP3nFUcNfhJ",
        "colab": {
          "base_uri": "https://localhost:8080/"
        },
        "outputId": "4227193c-7e64-41e1-92f8-54cca64647a8"
      },
      "outputs": [
        {
          "output_type": "execute_result",
          "data": {
            "text/plain": [
              "(51827, 3)"
            ]
          },
          "metadata": {},
          "execution_count": 16
        }
      ],
      "source": [
        "room_dummies.shape"
      ]
    },
    {
      "cell_type": "code",
      "execution_count": 17,
      "metadata": {
        "id": "jmB-t-3hNfhK",
        "colab": {
          "base_uri": "https://localhost:8080/",
          "height": 206
        },
        "outputId": "20322f85-3661-4006-a0c2-5c73c0ee8758"
      },
      "outputs": [
        {
          "output_type": "execute_result",
          "data": {
            "text/plain": [
              "   Entire home/apt  Private room  Shared room\n",
              "0                0             1            0\n",
              "1                0             1            0\n",
              "2                0             1            0\n",
              "3                1             0            0\n",
              "4                0             1            0"
            ],
            "text/html": [
              "\n",
              "  <div id=\"df-6317f835-8e01-4d92-a3b4-cb3829c32a26\">\n",
              "    <div class=\"colab-df-container\">\n",
              "      <div>\n",
              "<style scoped>\n",
              "    .dataframe tbody tr th:only-of-type {\n",
              "        vertical-align: middle;\n",
              "    }\n",
              "\n",
              "    .dataframe tbody tr th {\n",
              "        vertical-align: top;\n",
              "    }\n",
              "\n",
              "    .dataframe thead th {\n",
              "        text-align: right;\n",
              "    }\n",
              "</style>\n",
              "<table border=\"1\" class=\"dataframe\">\n",
              "  <thead>\n",
              "    <tr style=\"text-align: right;\">\n",
              "      <th></th>\n",
              "      <th>Entire home/apt</th>\n",
              "      <th>Private room</th>\n",
              "      <th>Shared room</th>\n",
              "    </tr>\n",
              "  </thead>\n",
              "  <tbody>\n",
              "    <tr>\n",
              "      <th>0</th>\n",
              "      <td>0</td>\n",
              "      <td>1</td>\n",
              "      <td>0</td>\n",
              "    </tr>\n",
              "    <tr>\n",
              "      <th>1</th>\n",
              "      <td>0</td>\n",
              "      <td>1</td>\n",
              "      <td>0</td>\n",
              "    </tr>\n",
              "    <tr>\n",
              "      <th>2</th>\n",
              "      <td>0</td>\n",
              "      <td>1</td>\n",
              "      <td>0</td>\n",
              "    </tr>\n",
              "    <tr>\n",
              "      <th>3</th>\n",
              "      <td>1</td>\n",
              "      <td>0</td>\n",
              "      <td>0</td>\n",
              "    </tr>\n",
              "    <tr>\n",
              "      <th>4</th>\n",
              "      <td>0</td>\n",
              "      <td>1</td>\n",
              "      <td>0</td>\n",
              "    </tr>\n",
              "  </tbody>\n",
              "</table>\n",
              "</div>\n",
              "      <button class=\"colab-df-convert\" onclick=\"convertToInteractive('df-6317f835-8e01-4d92-a3b4-cb3829c32a26')\"\n",
              "              title=\"Convert this dataframe to an interactive table.\"\n",
              "              style=\"display:none;\">\n",
              "        \n",
              "  <svg xmlns=\"http://www.w3.org/2000/svg\" height=\"24px\"viewBox=\"0 0 24 24\"\n",
              "       width=\"24px\">\n",
              "    <path d=\"M0 0h24v24H0V0z\" fill=\"none\"/>\n",
              "    <path d=\"M18.56 5.44l.94 2.06.94-2.06 2.06-.94-2.06-.94-.94-2.06-.94 2.06-2.06.94zm-11 1L8.5 8.5l.94-2.06 2.06-.94-2.06-.94L8.5 2.5l-.94 2.06-2.06.94zm10 10l.94 2.06.94-2.06 2.06-.94-2.06-.94-.94-2.06-.94 2.06-2.06.94z\"/><path d=\"M17.41 7.96l-1.37-1.37c-.4-.4-.92-.59-1.43-.59-.52 0-1.04.2-1.43.59L10.3 9.45l-7.72 7.72c-.78.78-.78 2.05 0 2.83L4 21.41c.39.39.9.59 1.41.59.51 0 1.02-.2 1.41-.59l7.78-7.78 2.81-2.81c.8-.78.8-2.07 0-2.86zM5.41 20L4 18.59l7.72-7.72 1.47 1.35L5.41 20z\"/>\n",
              "  </svg>\n",
              "      </button>\n",
              "      \n",
              "  <style>\n",
              "    .colab-df-container {\n",
              "      display:flex;\n",
              "      flex-wrap:wrap;\n",
              "      gap: 12px;\n",
              "    }\n",
              "\n",
              "    .colab-df-convert {\n",
              "      background-color: #E8F0FE;\n",
              "      border: none;\n",
              "      border-radius: 50%;\n",
              "      cursor: pointer;\n",
              "      display: none;\n",
              "      fill: #1967D2;\n",
              "      height: 32px;\n",
              "      padding: 0 0 0 0;\n",
              "      width: 32px;\n",
              "    }\n",
              "\n",
              "    .colab-df-convert:hover {\n",
              "      background-color: #E2EBFA;\n",
              "      box-shadow: 0px 1px 2px rgba(60, 64, 67, 0.3), 0px 1px 3px 1px rgba(60, 64, 67, 0.15);\n",
              "      fill: #174EA6;\n",
              "    }\n",
              "\n",
              "    [theme=dark] .colab-df-convert {\n",
              "      background-color: #3B4455;\n",
              "      fill: #D2E3FC;\n",
              "    }\n",
              "\n",
              "    [theme=dark] .colab-df-convert:hover {\n",
              "      background-color: #434B5C;\n",
              "      box-shadow: 0px 1px 3px 1px rgba(0, 0, 0, 0.15);\n",
              "      filter: drop-shadow(0px 1px 2px rgba(0, 0, 0, 0.3));\n",
              "      fill: #FFFFFF;\n",
              "    }\n",
              "  </style>\n",
              "\n",
              "      <script>\n",
              "        const buttonEl =\n",
              "          document.querySelector('#df-6317f835-8e01-4d92-a3b4-cb3829c32a26 button.colab-df-convert');\n",
              "        buttonEl.style.display =\n",
              "          google.colab.kernel.accessAllowed ? 'block' : 'none';\n",
              "\n",
              "        async function convertToInteractive(key) {\n",
              "          const element = document.querySelector('#df-6317f835-8e01-4d92-a3b4-cb3829c32a26');\n",
              "          const dataTable =\n",
              "            await google.colab.kernel.invokeFunction('convertToInteractive',\n",
              "                                                     [key], {});\n",
              "          if (!dataTable) return;\n",
              "\n",
              "          const docLinkHtml = 'Like what you see? Visit the ' +\n",
              "            '<a target=\"_blank\" href=https://colab.research.google.com/notebooks/data_table.ipynb>data table notebook</a>'\n",
              "            + ' to learn more about interactive tables.';\n",
              "          element.innerHTML = '';\n",
              "          dataTable['output_type'] = 'display_data';\n",
              "          await google.colab.output.renderOutput(dataTable, element);\n",
              "          const docLink = document.createElement('div');\n",
              "          docLink.innerHTML = docLinkHtml;\n",
              "          element.appendChild(docLink);\n",
              "        }\n",
              "      </script>\n",
              "    </div>\n",
              "  </div>\n",
              "  "
            ]
          },
          "metadata": {},
          "execution_count": 17
        }
      ],
      "source": [
        "room_dummies.head()"
      ]
    },
    {
      "cell_type": "markdown",
      "metadata": {
        "id": "c8CG_MEdkuX-"
      },
      "source": [
        "Joinear las variables dummies al dataset\n",
        "\n"
      ]
    },
    {
      "cell_type": "code",
      "execution_count": 18,
      "metadata": {
        "id": "3Q0w7z_uNfhK"
      },
      "outputs": [],
      "source": [
        "london = pd.concat([london, room_dummies,neigh_dummies],axis=1)"
      ]
    },
    {
      "cell_type": "code",
      "source": [
        "london = london.iloc[0:5000]"
      ],
      "metadata": {
        "id": "yCd--xTabRSn"
      },
      "execution_count": 19,
      "outputs": []
    },
    {
      "cell_type": "markdown",
      "metadata": {
        "id": "qjPPQtG6kuX_"
      },
      "source": [
        "##### Dividiremos nuestro dataset en la variable dependiente \"y\" (label o etiqueta) y las variables independientes \"x\""
      ]
    },
    {
      "cell_type": "code",
      "execution_count": 20,
      "metadata": {
        "id": "1TZWtiVTkuX_"
      },
      "outputs": [],
      "source": [
        "y = np.array(london[[\"price\"]])\n",
        "x = london.drop(['price', 'neighbourhood','room_type'], axis=1)"
      ]
    },
    {
      "cell_type": "markdown",
      "metadata": {
        "id": "s-2ujF5MkuYA"
      },
      "source": [
        "##### **Objetivo 7**\n",
        "\n",
        "Dividir el dataset entre Train y Test, tomar un test_size del 30%."
      ]
    },
    {
      "cell_type": "code",
      "execution_count": 21,
      "metadata": {
        "id": "SBepVVKIkuYA"
      },
      "outputs": [],
      "source": [
        "xtrain, xtest, ytrain, ytest = train_test_split(x.values, y, test_size=0.3, random_state=4)"
      ]
    },
    {
      "cell_type": "markdown",
      "metadata": {
        "id": "mfDnVu6hkuYB"
      },
      "source": [
        "##### **Objetivo 8**\n",
        "Con el StandardScaler generado en la linea siguiente, realizar el transform para el xtrain y xtest guardandolos en nuevas variables llamadas \"xtrain_scal\" y \"xtest_scal\".\n"
      ]
    },
    {
      "cell_type": "code",
      "execution_count": 22,
      "metadata": {
        "id": "QgDYMr1qNfhL"
      },
      "outputs": [],
      "source": [
        "scaler = preprocessing.StandardScaler().fit(xtrain)"
      ]
    },
    {
      "cell_type": "code",
      "execution_count": 23,
      "metadata": {
        "id": "PTdTOdUANfhL"
      },
      "outputs": [],
      "source": [
        "xtrain_scal = scaler.transform(xtrain)"
      ]
    },
    {
      "cell_type": "code",
      "execution_count": 24,
      "metadata": {
        "id": "xJX0JJI7kuYC"
      },
      "outputs": [],
      "source": [
        "xtest_scal = scaler.transform(xtest)"
      ]
    },
    {
      "cell_type": "code",
      "source": [
        "xtrain_sd = xtrain[:, 0:5] #sin dummies"
      ],
      "metadata": {
        "id": "cMtvcT-0eQkK"
      },
      "execution_count": 25,
      "outputs": []
    },
    {
      "cell_type": "code",
      "source": [
        "xtrain_cd = xtrain[:, 5:] #con dummies"
      ],
      "metadata": {
        "id": "KxKUtBlseUo5"
      },
      "execution_count": 26,
      "outputs": []
    },
    {
      "cell_type": "code",
      "source": [
        "xtest_sd = xtest[:, 0:5] #sin dummies\n"
      ],
      "metadata": {
        "id": "A4m9cStaeUaS"
      },
      "execution_count": 27,
      "outputs": []
    },
    {
      "cell_type": "code",
      "source": [
        "xtest_cd = xtest[:, 5:] #con dummies"
      ],
      "metadata": {
        "id": "0P5AsIlueTe3"
      },
      "execution_count": 28,
      "outputs": []
    },
    {
      "cell_type": "markdown",
      "metadata": {
        "id": "_hkXK5_ckuYC"
      },
      "source": [
        "##### **Objetivo 9**\n",
        "Crear un modelo lineal y entrenarlo para nuestro dataset.\n",
        "\n",
        "Obtener las predicciones y el \"mean_squared_error\" para el test set."
      ]
    },
    {
      "cell_type": "code",
      "execution_count": 29,
      "metadata": {
        "id": "60x_-aowNfhM"
      },
      "outputs": [],
      "source": [
        "def lin_reg(x,y):\n",
        "  n, m = x.shape\n",
        "  I = np.identity(m)\n",
        "  w = np.dot(np.dot(np.linalg.inv(np.dot(x.T, x)), x.T), y)\n",
        "  return w"
      ]
    },
    {
      "cell_type": "code",
      "execution_count": 30,
      "metadata": {
        "id": "CNBZVUxjNfhM",
        "scrolled": true,
        "colab": {
          "base_uri": "https://localhost:8080/"
        },
        "outputId": "a95a1b22-27f8-4c24-b607-bbaec3b54390"
      },
      "outputs": [
        {
          "output_type": "execute_result",
          "data": {
            "text/plain": [
              "array([[   5.23106974],\n",
              "       [  -3.92099972],\n",
              "       [  -0.48896276],\n",
              "       [   2.60447277],\n",
              "       [   7.28114259],\n",
              "       [ -86.966721  ],\n",
              "       [-107.37185971],\n",
              "       [ -16.36606931],\n",
              "       [  -3.09486878],\n",
              "       [ -14.87051184],\n",
              "       [  -3.82394794],\n",
              "       [ -19.25148052],\n",
              "       [  -6.80895931],\n",
              "       [ -40.61550327],\n",
              "       [  -4.47957702],\n",
              "       [  -3.98439936],\n",
              "       [ -14.35500449],\n",
              "       [ -14.60844259],\n",
              "       [ -12.96384852],\n",
              "       [ -35.68740556],\n",
              "       [ -29.07937926],\n",
              "       [ -20.2106182 ],\n",
              "       [  -6.42759144],\n",
              "       [  -2.47789732],\n",
              "       [  -3.61690912],\n",
              "       [  -7.19718412],\n",
              "       [  -6.82740592],\n",
              "       [   2.44367546],\n",
              "       [  -2.91755329],\n",
              "       [ -38.81812991],\n",
              "       [ -19.61075302],\n",
              "       [  -2.80187839],\n",
              "       [ -12.48342309],\n",
              "       [ -15.31591395],\n",
              "       [ -15.22558312],\n",
              "       [ -48.74368199],\n",
              "       [  -5.29479143],\n",
              "       [ -19.70870042],\n",
              "       [ -16.3535929 ],\n",
              "       [ -12.61366555],\n",
              "       [  -9.09465706]])"
            ]
          },
          "metadata": {},
          "execution_count": 30
        }
      ],
      "source": [
        "weights_ols = lin_reg(xtrain_scal,ytrain)\n",
        "weights_ols"
      ]
    },
    {
      "cell_type": "code",
      "execution_count": 31,
      "metadata": {
        "scrolled": true,
        "colab": {
          "base_uri": "https://localhost:8080/"
        },
        "id": "47W63rtjXdxb",
        "outputId": "0fc5345f-bb74-4182-abd2-bc0fbe9882e4"
      },
      "outputs": [
        {
          "output_type": "execute_result",
          "data": {
            "text/plain": [
              "175.84722236544522"
            ]
          },
          "metadata": {},
          "execution_count": 31
        }
      ],
      "source": [
        "np.linalg.norm(weights_ols, ord = 2)"
      ]
    },
    {
      "cell_type": "code",
      "execution_count": 32,
      "metadata": {
        "id": "xtYq30ZVXdxb"
      },
      "outputs": [],
      "source": [
        "y_pred_val_ols = np.dot(xtest_scal, np.asarray(weights_ols))"
      ]
    },
    {
      "cell_type": "code",
      "execution_count": 33,
      "metadata": {
        "colab": {
          "base_uri": "https://localhost:8080/"
        },
        "id": "CsZj6Ub1Xdxb",
        "outputId": "d932fc2c-7ac7-44b3-cfcb-5055ab13a4aa"
      },
      "outputs": [
        {
          "output_type": "execute_result",
          "data": {
            "text/plain": [
              "108.30534854110087"
            ]
          },
          "metadata": {},
          "execution_count": 33
        }
      ],
      "source": [
        "rmse_ols = np.sqrt(np.mean(np.square(ytest - y_pred_val_ols)))\n",
        "rmse_ols"
      ]
    },
    {
      "cell_type": "markdown",
      "metadata": {
        "id": "yQpkINPIkuYD"
      },
      "source": [
        "##### **Objetivo 10**\n",
        "Crear un SVM Regressor y un GridSearch para realizar la búsqueda de hiperparámetros.\n",
        "\n",
        "Asignar dos posibles valores para el parámetro \"kernel\", y tres posibles valores para \"C\" y \"gamma\".\n",
        "\n",
        "Setear al parámetro \"refit\" en True y hacer 5 CrossValidation."
      ]
    },
    {
      "cell_type": "code",
      "execution_count": 34,
      "metadata": {
        "id": "cyh2r-iJNfhM"
      },
      "outputs": [],
      "source": [
        "svreg = SVR()"
      ]
    },
    {
      "cell_type": "code",
      "execution_count": 35,
      "metadata": {
        "id": "JK2ZKv6ONfhM"
      },
      "outputs": [],
      "source": [
        "param_svreg = {'kernel':('linear', 'rbf'), 'C':[1, 10,100 ], 'gamma':[ 0.1,1,10]}"
      ]
    },
    {
      "cell_type": "code",
      "execution_count": 36,
      "metadata": {
        "id": "7CD4cIYUkuYE"
      },
      "outputs": [],
      "source": [
        "regressor_svr = GridSearchCV(svreg , param_svreg, cv = 5, n_jobs = -1, verbose = True, refit = True)"
      ]
    },
    {
      "cell_type": "code",
      "execution_count": 37,
      "metadata": {
        "colab": {
          "base_uri": "https://localhost:8080/"
        },
        "id": "9BxhvTvoXdxc",
        "outputId": "0e62d90e-5592-4706-be54-cfad112b6d43"
      },
      "outputs": [
        {
          "output_type": "stream",
          "name": "stdout",
          "text": [
            "Fitting 5 folds for each of 18 candidates, totalling 90 fits\n"
          ]
        },
        {
          "output_type": "execute_result",
          "data": {
            "text/plain": [
              "GridSearchCV(cv=5, estimator=SVR(), n_jobs=-1,\n",
              "             param_grid={'C': [1, 10, 100], 'gamma': [0.1, 1, 10],\n",
              "                         'kernel': ('linear', 'rbf')},\n",
              "             verbose=True)"
            ]
          },
          "metadata": {},
          "execution_count": 37
        }
      ],
      "source": [
        "regressor_svr.fit(xtrain_scal, ytrain.ravel())"
      ]
    },
    {
      "cell_type": "markdown",
      "metadata": {
        "id": "YOuBv_mfkuYG"
      },
      "source": [
        "##### **Objetivo 11**\n",
        "\n",
        "Mostrar cuales fueron los mejores hiperparámetros y para estos obtener el mean_squared_error en el test set."
      ]
    },
    {
      "cell_type": "code",
      "execution_count": 38,
      "metadata": {
        "id": "HHwCIS0mNfhN",
        "colab": {
          "base_uri": "https://localhost:8080/"
        },
        "outputId": "27e9d6e3-3382-4446-c0a4-5e33d94019fb"
      },
      "outputs": [
        {
          "output_type": "execute_result",
          "data": {
            "text/plain": [
              "{'C': 100, 'gamma': 0.1, 'kernel': 'linear'}"
            ]
          },
          "metadata": {},
          "execution_count": 38
        }
      ],
      "source": [
        "regressor_svr.best_params_"
      ]
    },
    {
      "cell_type": "code",
      "execution_count": 39,
      "metadata": {
        "id": "vlMZBccQNfhN",
        "colab": {
          "base_uri": "https://localhost:8080/"
        },
        "outputId": "881ac9de-23fa-4dbf-f12d-e397e624b02c"
      },
      "outputs": [
        {
          "output_type": "execute_result",
          "data": {
            "text/plain": [
              "0.47254978018813637"
            ]
          },
          "metadata": {},
          "execution_count": 39
        }
      ],
      "source": [
        "regressor_svr.best_score_"
      ]
    },
    {
      "cell_type": "code",
      "execution_count": 40,
      "metadata": {
        "id": "fc8mozfEkuYH",
        "colab": {
          "base_uri": "https://localhost:8080/"
        },
        "outputId": "418825b4-52b2-414f-8138-1b34bdd15f3c"
      },
      "outputs": [
        {
          "output_type": "execute_result",
          "data": {
            "text/plain": [
              "array([ 43.10170062,  50.29888081, 123.78289627, ...,  69.15203165,\n",
              "       109.16629662, 129.30539078])"
            ]
          },
          "metadata": {},
          "execution_count": 40
        }
      ],
      "source": [
        "ypred = regressor_svr.predict(xtest_scal)\n",
        "ypred"
      ]
    },
    {
      "cell_type": "code",
      "execution_count": 41,
      "metadata": {
        "id": "WPYAXqRrXdxd",
        "colab": {
          "base_uri": "https://localhost:8080/"
        },
        "outputId": "b460a359-ecab-4cc8-c898-b8978771fb48"
      },
      "outputs": [
        {
          "output_type": "execute_result",
          "data": {
            "text/plain": [
              "38.68056074825764"
            ]
          },
          "metadata": {},
          "execution_count": 41
        }
      ],
      "source": [
        "np.sqrt(mean_squared_error(ytest, ypred))"
      ]
    },
    {
      "cell_type": "markdown",
      "metadata": {
        "id": "IJQSlAT_kuYH"
      },
      "source": [
        "##### **Objetivo 12**\n",
        "Repetir el objetivo 10 pero ahora seteando nuevos valores para los hiperparámetros mencionados con el objetivo de mejorar las predicciones.\n",
        "\n",
        "Cuales son los mejores hiperparámetros ahora?\n",
        "Obtenemos una mejora en las predicciones?\n",
        "Mostrar los resultados."
      ]
    },
    {
      "cell_type": "code",
      "execution_count": 42,
      "metadata": {
        "id": "LmYGwWhokuYI"
      },
      "outputs": [],
      "source": [
        "svreg = SVR()"
      ]
    },
    {
      "cell_type": "code",
      "execution_count": 43,
      "metadata": {
        "id": "WyMHn-XYn5Uv"
      },
      "outputs": [],
      "source": [
        "param_svreg = {'kernel':('linear', 'rbf'), 'C':[80, 100, 120], 'gamma':[0.05, 0.1, 0.15]}"
      ]
    },
    {
      "cell_type": "code",
      "execution_count": 44,
      "metadata": {
        "id": "GyUOMDd7kuYI"
      },
      "outputs": [],
      "source": [
        "regressor_svr = GridSearchCV(svreg , param_svreg, cv = 5, n_jobs = -1, verbose = True, refit = True)"
      ]
    },
    {
      "cell_type": "code",
      "execution_count": 45,
      "metadata": {
        "id": "ZJ0-nJNHkuYJ",
        "colab": {
          "base_uri": "https://localhost:8080/"
        },
        "outputId": "cf46183c-771d-4536-862b-c668a819fb25"
      },
      "outputs": [
        {
          "output_type": "stream",
          "name": "stdout",
          "text": [
            "Fitting 5 folds for each of 18 candidates, totalling 90 fits\n"
          ]
        },
        {
          "output_type": "execute_result",
          "data": {
            "text/plain": [
              "GridSearchCV(cv=5, estimator=SVR(), n_jobs=-1,\n",
              "             param_grid={'C': [80, 100, 120], 'gamma': [0.05, 0.1, 0.15],\n",
              "                         'kernel': ('linear', 'rbf')},\n",
              "             verbose=True)"
            ]
          },
          "metadata": {},
          "execution_count": 45
        }
      ],
      "source": [
        "regressor_svr.fit(xtrain_scal, ytrain.ravel())"
      ]
    },
    {
      "cell_type": "code",
      "execution_count": 46,
      "metadata": {
        "id": "7-Ri4xKwXdxd",
        "colab": {
          "base_uri": "https://localhost:8080/"
        },
        "outputId": "d5e7cd1a-3113-4e2e-e960-a33da4289cbe"
      },
      "outputs": [
        {
          "output_type": "execute_result",
          "data": {
            "text/plain": [
              "{'C': 80, 'gamma': 0.05, 'kernel': 'rbf'}"
            ]
          },
          "metadata": {},
          "execution_count": 46
        }
      ],
      "source": [
        "regressor_svr.best_params_"
      ]
    },
    {
      "cell_type": "code",
      "execution_count": 47,
      "metadata": {
        "id": "H2ZbPvVKXdxe",
        "colab": {
          "base_uri": "https://localhost:8080/"
        },
        "outputId": "8d0b263d-4867-437f-a072-5ce2192aca4b"
      },
      "outputs": [
        {
          "output_type": "execute_result",
          "data": {
            "text/plain": [
              "0.48292220595858276"
            ]
          },
          "metadata": {},
          "execution_count": 47
        }
      ],
      "source": [
        "regressor_svr.best_score_"
      ]
    },
    {
      "cell_type": "code",
      "execution_count": 48,
      "metadata": {
        "id": "LA-SDrPpXdxe",
        "colab": {
          "base_uri": "https://localhost:8080/"
        },
        "outputId": "0c9fe94d-6abc-4564-86fc-6a41171e3a35"
      },
      "outputs": [
        {
          "output_type": "execute_result",
          "data": {
            "text/plain": [
              "array([ 37.76474307,  41.85796266, 100.01901965, ...,  61.73402886,\n",
              "        96.17260024, 132.76399381])"
            ]
          },
          "metadata": {},
          "execution_count": 48
        }
      ],
      "source": [
        "ypred = regressor_svr.predict(xtest_scal)\n",
        "ypred"
      ]
    },
    {
      "cell_type": "code",
      "execution_count": 49,
      "metadata": {
        "id": "7EIptPhPXdxe",
        "colab": {
          "base_uri": "https://localhost:8080/"
        },
        "outputId": "de29ff67-cdee-4d56-9f70-50e94b9a6757"
      },
      "outputs": [
        {
          "output_type": "execute_result",
          "data": {
            "text/plain": [
              "38.450759208804485"
            ]
          },
          "metadata": {},
          "execution_count": 49
        }
      ],
      "source": [
        "np.sqrt(mean_squared_error(ytest, ypred))"
      ]
    }
  ],
  "metadata": {
    "colab": {
      "provenance": []
    },
    "kernelspec": {
      "display_name": "Python 3 (ipykernel)",
      "language": "python",
      "name": "python3"
    },
    "language_info": {
      "codemirror_mode": {
        "name": "ipython",
        "version": 3
      },
      "file_extension": ".py",
      "mimetype": "text/x-python",
      "name": "python",
      "nbconvert_exporter": "python",
      "pygments_lexer": "ipython3",
      "version": "3.9.12"
    },
    "vscode": {
      "interpreter": {
        "hash": "c63d8c7d738c2960218a10995aedf0a7f67a49a231e71037adf0440953cdb45b"
      }
    }
  },
  "nbformat": 4,
  "nbformat_minor": 0
}